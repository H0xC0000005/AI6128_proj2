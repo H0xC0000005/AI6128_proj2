{
 "cells": [
  {
   "cell_type": "code",
   "execution_count": 1,
   "metadata": {},
   "outputs": [
    {
     "name": "stdout",
     "output_type": "stream",
     "text": [
      "osmnx version 1.7.0\n"
     ]
    }
   ],
   "source": [
    "import osmnx as ox\n",
    "import time\n",
    "from shapely.geometry import Polygon\n",
    "import os\n",
    "import pandas as pd\n",
    "\n",
    "def save_graph_shapefile_directional(G, filepath=None, encoding=\"utf-8\"):\n",
    "    # default filepath if none was provided\n",
    "    if filepath is None:\n",
    "        filepath = os.path.join(ox.settings.data_folder, \"graph_shapefile\")\n",
    "\n",
    "    # if save folder does not already exist, create it (shapefiles\n",
    "    # get saved as set of files)\n",
    "    if not filepath == \"\" and not os.path.exists(filepath):\n",
    "        os.makedirs(filepath)\n",
    "    filepath_nodes = os.path.join(filepath, \"nodes.shp\")\n",
    "    filepath_edges = os.path.join(filepath, \"edges.shp\")\n",
    "\n",
    "    # convert undirected graph to gdfs and stringify non-numeric columns\n",
    "    gdf_nodes, gdf_edges = ox.utils_graph.graph_to_gdfs(G)\n",
    "    gdf_nodes = ox.io._stringify_nonnumeric_cols(gdf_nodes)\n",
    "    gdf_edges = ox.io._stringify_nonnumeric_cols(gdf_edges)\n",
    "    # We need an unique ID for each edge\n",
    "    # NOTE: tuple format not supported. cannot directly use gdf_edges.index since\n",
    "    # this is a tuple returned. must post process.\n",
    "    gdf_edges[\"fid\"] = gdf_edges.index\n",
    "    gdf_edges[\"fid\"] = gdf_edges[\"fid\"].apply(lambda x: str(x))\n",
    "    # save the nodes and edges as separate ESRI shapefiles\n",
    "    # NOTE: may raise ValueError for invalid entry type, e.g. tuple, list, bytes\n",
    "    gdf_nodes.to_file(filepath_nodes, encoding=encoding)\n",
    "    gdf_edges.to_file(filepath_edges, encoding=encoding)\n",
    "    pass\n",
    "\n",
    "print(\"osmnx version\",ox.__version__)"
   ]
  },
  {
   "cell_type": "markdown",
   "metadata": {},
   "source": [
    "Download network in a boundingbox\n"
   ]
  },
  {
   "cell_type": "code",
   "execution_count": 2,
   "metadata": {},
   "outputs": [
    {
     "name": "stderr",
     "output_type": "stream",
     "text": [
      "/tmp/ipykernel_2836045/874986057.py:30: UserWarning: Column names longer than 10 characters will be truncated when saved to ESRI Shapefile.\n",
      "  gdf_nodes.to_file(filepath_nodes, encoding=encoding)\n"
     ]
    },
    {
     "name": "stdout",
     "output_type": "stream",
     "text": [
      "--- 0.3378446102142334 seconds ---\n"
     ]
    }
   ],
   "source": [
    "# format is (long, long, lat, lat). E and N are positive, W and S are negative\n",
    "bounds = (18.029122582902115, 18.070836297501724, 59.33476653724975, 59.352622230576124)\n",
    "x1,x2,y1,y2 = bounds\n",
    "boundary_polygon = Polygon([(x1,y1),(x2,y1),(x2,y2),(x1,y2)])\n",
    "G = ox.graph_from_polygon(boundary_polygon, network_type='drive')\n",
    "start_time = time.time()\n",
    "save_graph_shapefile_directional(G, filepath='./stockholm')\n",
    "print(\"--- %s seconds ---\" % (time.time() - start_time))"
   ]
  },
  {
   "cell_type": "markdown",
   "metadata": {},
   "source": [
    "Download network in a city"
   ]
  },
  {
   "cell_type": "code",
   "execution_count": 3,
   "metadata": {},
   "outputs": [
    {
     "name": "stderr",
     "output_type": "stream",
     "text": [
      "/tmp/ipykernel_2835066/874986057.py:30: UserWarning: Column names longer than 10 characters will be truncated when saved to ESRI Shapefile.\n",
      "  gdf_nodes.to_file(filepath_nodes, encoding=encoding)\n"
     ]
    }
   ],
   "source": [
    "place =\"Stockholm, Sweden\"\n",
    "G = ox.graph_from_place(place, network_type='drive', which_result=1)\n",
    "save_graph_shapefile_directional(G, filepath='./stockholm')"
   ]
  },
  {
   "cell_type": "markdown",
   "metadata": {},
   "source": [
    "Download network with a boundary"
   ]
  },
  {
   "cell_type": "code",
   "execution_count": 3,
   "metadata": {},
   "outputs": [
    {
     "name": "stderr",
     "output_type": "stream",
     "text": [
      "/tmp/ipykernel_2836045/874986057.py:30: UserWarning: Column names longer than 10 characters will be truncated when saved to ESRI Shapefile.\n",
      "  gdf_nodes.to_file(filepath_nodes, encoding=encoding)\n"
     ]
    }
   ],
   "source": [
    "# Download by a boundary polygon in geojson\n",
    "import osmnx as ox\n",
    "from shapely.geometry import shape\n",
    "# this file is at https://github.com/cyang-kth/fmm/blob/master/example/osmnx_example/stockholm_boundary.geojson?short_path=e3ff81d\n",
    "json_file = open(\"stockholm_boundary.geojson\")\n",
    "import json\n",
    "data = json.load(json_file)\n",
    "boundary_polygon = shape(data[\"features\"][0]['geometry'])\n",
    "G = ox.graph_from_polygon(boundary_polygon, network_type='drive')\n",
    "save_graph_shapefile_directional(G, filepath='stockholm')"
   ]
  },
  {
   "cell_type": "code",
   "execution_count": null,
   "metadata": {},
   "outputs": [],
   "source": []
  }
 ],
 "metadata": {
  "kernelspec": {
   "display_name": "default",
   "language": "python",
   "name": "python3"
  },
  "language_info": {
   "codemirror_mode": {
    "name": "ipython",
    "version": 3
   },
   "file_extension": ".py",
   "mimetype": "text/x-python",
   "name": "python",
   "nbconvert_exporter": "python",
   "pygments_lexer": "ipython3",
   "version": "3.10.12"
  }
 },
 "nbformat": 4,
 "nbformat_minor": 2
}
