{
 "cells": [
  {
   "cell_type": "code",
   "execution_count": 1,
   "metadata": {},
   "outputs": [],
   "source": [
    "import pandas as pd"
   ]
  },
  {
   "cell_type": "code",
   "execution_count": 2,
   "metadata": {},
   "outputs": [],
   "source": [
    "df15 = pd.read_csv(f\"train_1500.csv\")"
   ]
  },
  {
   "cell_type": "code",
   "execution_count": 3,
   "metadata": {},
   "outputs": [
    {
     "name": "stdout",
     "output_type": "stream",
     "text": [
      "               TRIP_ID CALL_TYPE  ORIGIN_CALL  ORIGIN_STAND   TAXI_ID  \\\n",
      "0  1372636858620000589         C          NaN           NaN  20000589   \n",
      "1  1372637303620000596         B          NaN           7.0  20000596   \n",
      "2  1372636951620000320         C          NaN           NaN  20000320   \n",
      "3  1372636854620000520         C          NaN           NaN  20000520   \n",
      "4  1372637091620000337         C          NaN           NaN  20000337   \n",
      "\n",
      "    TIMESTAMP DAY_TYPE  MISSING_DATA  \\\n",
      "0  1372636858        A         False   \n",
      "1  1372637303        A         False   \n",
      "2  1372636951        A         False   \n",
      "3  1372636854        A         False   \n",
      "4  1372637091        A         False   \n",
      "\n",
      "                                            POLYLINE  \n",
      "0  [[-8.618643,41.141412],[-8.618499,41.141376],[...  \n",
      "1  [[-8.639847,41.159826],[-8.640351,41.159871],[...  \n",
      "2  [[-8.612964,41.140359],[-8.613378,41.14035],[-...  \n",
      "3  [[-8.574678,41.151951],[-8.574705,41.151942],[...  \n",
      "4  [[-8.645994,41.18049],[-8.645949,41.180517],[-...  \n"
     ]
    }
   ],
   "source": [
    "print(df15.head())"
   ]
  },
  {
   "cell_type": "code",
   "execution_count": null,
   "metadata": {},
   "outputs": [],
   "source": []
  }
 ],
 "metadata": {
  "kernelspec": {
   "display_name": "ox",
   "language": "python",
   "name": "python3"
  },
  "language_info": {
   "codemirror_mode": {
    "name": "ipython",
    "version": 3
   },
   "file_extension": ".py",
   "mimetype": "text/x-python",
   "name": "python",
   "nbconvert_exporter": "python",
   "pygments_lexer": "ipython3",
   "version": "3.10.12"
  }
 },
 "nbformat": 4,
 "nbformat_minor": 2
}
